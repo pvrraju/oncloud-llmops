{
 "cells": [
  {
   "cell_type": "code",
   "execution_count": 310,
   "id": "3bcad521",
   "metadata": {},
   "outputs": [
    {
     "name": "stdout",
     "output_type": "stream",
     "text": [
      "wewe\n"
     ]
    }
   ],
   "source": [
    "print(\"wewe\")"
   ]
  },
  {
   "cell_type": "code",
   "execution_count": 311,
   "id": "37b9104a",
   "metadata": {},
   "outputs": [],
   "source": [
    "from typing import Annotated\n",
    "from typing_extensions import TypedDict\n",
    "\n",
    "from langgraph.graph import StateGraph, START, END\n",
    "\n",
    "from langgraph.graph.message import add_messages"
   ]
  },
  {
   "cell_type": "code",
   "execution_count": 312,
   "id": "a42f17f1",
   "metadata": {},
   "outputs": [],
   "source": [
    "class State(TypedDict):\n",
    "\n",
    "    messages:Annotated[list, add_messages]\n",
    "\n",
    "\n",
    "graph_builder= StateGraph(State)"
   ]
  },
  {
   "cell_type": "code",
   "execution_count": 313,
   "id": "1f950d2d",
   "metadata": {},
   "outputs": [
    {
     "data": {
      "text/plain": [
       "<langgraph.graph.state.StateGraph at 0x11a6ff610>"
      ]
     },
     "execution_count": 313,
     "metadata": {},
     "output_type": "execute_result"
    }
   ],
   "source": [
    "graph_builder"
   ]
  },
  {
   "cell_type": "code",
   "execution_count": 314,
   "id": "449101ec",
   "metadata": {},
   "outputs": [],
   "source": [
    "import os \n",
    "from dotenv import load_dotenv"
   ]
  },
  {
   "cell_type": "code",
   "execution_count": 315,
   "id": "1e6d210f",
   "metadata": {},
   "outputs": [
    {
     "data": {
      "text/plain": [
       "True"
      ]
     },
     "execution_count": 315,
     "metadata": {},
     "output_type": "execute_result"
    }
   ],
   "source": [
    "load_dotenv()"
   ]
  },
  {
   "cell_type": "code",
   "execution_count": 316,
   "id": "fd0616c4",
   "metadata": {},
   "outputs": [],
   "source": [
    "from langchain_openai import ChatOpenAI\n",
    "from langchain.chat_models import init_chat_model"
   ]
  },
  {
   "cell_type": "code",
   "execution_count": 345,
   "id": "f7b9bb76",
   "metadata": {},
   "outputs": [],
   "source": [
    "llm = init_chat_model(\"openai:gpt-4o-2024-08-06\")\n"
   ]
  },
  {
   "cell_type": "code",
   "execution_count": 346,
   "id": "4fa8fd3f",
   "metadata": {},
   "outputs": [],
   "source": [
    "def chatbot(state:State):\n",
    "\n",
    "    #llm = ChatOpenAI(temperature=0, model=\"gpt-4o-mini\")\n",
    "    \n",
    "    # # Call the model with the current messages\n",
    "    # response = model.invoke(state['messages'])\n",
    "    \n",
    "    # # The return value must be a dictionary with a key that matches the\n",
    "    # # key in our State class ('messages'). This will update the state.\n",
    "    # return {\"messages\": [response]}\n",
    "\n",
    "\n",
    "\n",
    "    return {\"messages\":[llm.invoke(state[\"messages\"])]}"
   ]
  },
  {
   "cell_type": "code",
   "execution_count": 347,
   "id": "a4c112ab",
   "metadata": {},
   "outputs": [
    {
     "data": {
      "text/plain": [
       "<langgraph.graph.state.StateGraph at 0x11d389950>"
      ]
     },
     "execution_count": 347,
     "metadata": {},
     "output_type": "execute_result"
    }
   ],
   "source": [
    "graph_builder = StateGraph(State)\n",
    "graph_builder.add_node(\"gptchatbot\", chatbot)\n",
    "\n",
    "graph_builder.add_edge(START,\"gptchatbot\")\n",
    "graph_builder.add_edge(\"gptchatbot\",END)\n"
   ]
  },
  {
   "cell_type": "code",
   "execution_count": 348,
   "id": "ba4c5ef0",
   "metadata": {},
   "outputs": [],
   "source": [
    "graph = graph_builder.compile()"
   ]
  },
  {
   "cell_type": "code",
   "execution_count": 349,
   "id": "6ff3afb7",
   "metadata": {},
   "outputs": [
    {
     "data": {
      "image/png": "[encoded data removed]",
      "text/plain": [
       "<IPython.core.display.Image object>"
      ]
     },
     "metadata": {},
     "output_type": "display_data"
    }
   ],
   "source": [
    "from IPython.display import Image, display\n",
    "\n",
    "    # Get the graph object for visualization\n",
    "graph_image = graph.get_graph()\n",
    "\n",
    "    # Display the graph (e.g., in a Jupyter Notebook)\n",
    "display(Image(graph_image.draw_png()))"
   ]
  },
  {
   "cell_type": "code",
   "execution_count": 350,
   "id": "5d3f4779",
   "metadata": {},
   "outputs": [],
   "source": [
    "graph_image.draw_png(\"my_langgraph.png\")"
   ]
  },
  {
   "cell_type": "code",
   "execution_count": 351,
   "id": "a33e6b6e",
   "metadata": {},
   "outputs": [
    {
     "data": {
      "text/plain": [
       "{'messages': [HumanMessage(content='hi haha', additional_kwargs={}, response_metadata={}, id='68e3c90a-5545-4142-b538-1a9a0b0b0282'),\n",
       "  AIMessage(content='Hello! How can I assist you today?', additional_kwargs={'refusal': None}, response_metadata={'token_usage': {'completion_tokens': 9, 'prompt_tokens': 9, 'total_tokens': 18, 'completion_tokens_details': {'accepted_prediction_tokens': 0, 'audio_tokens': 0, 'reasoning_tokens': 0, 'rejected_prediction_tokens': 0}, 'prompt_tokens_details': {'audio_tokens': 0, 'cached_tokens': 0}}, 'model_name': 'gpt-4o-2024-08-06', 'system_fingerprint': 'fp_07871e2ad8', 'id': 'chatcmpl-BqkQbf9AhC6azb0vZIf5hbW2kM3HP', 'service_tier': 'default', 'finish_reason': 'stop', 'logprobs': None}, id='run--c94953c1-ca63-4426-9a79-3497116b83d5-0', usage_metadata={'input_tokens': 9, 'output_tokens': 9, 'total_tokens': 18, 'input_token_details': {'audio': 0, 'cache_read': 0}, 'output_token_details': {'audio': 0, 'reasoning': 0}})]}"
      ]
     },
     "execution_count": 351,
     "metadata": {},
     "output_type": "execute_result"
    }
   ],
   "source": [
    "graph.invoke({\"messages\":\"hi haha\"})"
   ]
  },
  {
   "cell_type": "code",
   "execution_count": 352,
   "id": "b0973983",
   "metadata": {},
   "outputs": [
    {
     "name": "stdout",
     "output_type": "stream",
     "text": [
      "Hello! It seems like your message got a bit jumbled. Could you clarify or let me know what you'd like to discuss? I'm here to help with any questions or topics you're interested in.\n"
     ]
    }
   ],
   "source": [
    "for event in graph.stream({\"messages\":\"hi what re what doings ??\"}):\n",
    "    for value in event.values():\n",
    "        print(value[\"messages\"][-1].content)"
   ]
  },
  {
   "cell_type": "markdown",
   "id": "03a709c1",
   "metadata": {},
   "source": [
    "# with tools\n"
   ]
  },
  {
   "cell_type": "code",
   "execution_count": 353,
   "id": "34b1ee1e",
   "metadata": {},
   "outputs": [
    {
     "data": {
      "text/plain": [
       "{'query': 'What is this',\n",
       " 'follow_up_questions': None,\n",
       " 'answer': None,\n",
       " 'images': [],\n",
       " 'results': [{'url': 'https://play.google.com/store/apps/details?id=com.google.ar.lens&hl=en_US',\n",
       "   'title': 'Google Lens - Apps on Google Play',\n",
       "   'content': 'Google Lens lets you search what you see, get things done faster, and understand the world around you—using just your camera or a photo.',\n",
       "   'score': 0.090582706,\n",
       "   'raw_content': None},\n",
       "  {'url': 'https://search.google/ways-to-search/lens/',\n",
       "   'title': 'Lens - Google Search',\n",
       "   'content': 'Lens *   AI Overviews *   Lens Search what you see with Lens Use your camera, an image, or a screenshot to search. *   AI Overviews *   Image 1Lens *   Image 2AR *   Image 3Voice Just open Lens in the Google app, hold the shutter button and ask whatever’s on your mind — the same way you’d point at something and ask your friend about it. With Google Lens in Chrome desktop, easily select, search and ask questions about anything you see on the web, all without leaving your current tab. Lens is also available in the Camera app of select Android devices. Image 11Voice Image 14Search Image 16AR Explore iconic landmarks with AR in Search  Image 19: lens iconLens Use Lens to quickly copy text from signs, notes, and more using your camera.',\n",
       "   'score': 0.07264344,\n",
       "   'raw_content': None},\n",
       "  {'url': 'https://lens.google/',\n",
       "   'title': 'Google Lens - Search What You See',\n",
       "   'content': \"Use your camera or an image to search. Get inspired by similar clothes, furniture, and home decor—without having to type what you're looking for. Copy and translate text Translate text in real-time from over 100 languages. Identify plants and animals Find out what plant is in your friend's apartment, or what kind of dog you saw in the park.\",\n",
       "   'score': 0.061452325,\n",
       "   'raw_content': None}],\n",
       " 'response_time': 1.19}"
      ]
     },
     "execution_count": 353,
     "metadata": {},
     "output_type": "execute_result"
    }
   ],
   "source": [
    "from langchain_tavily import TavilySearch\n",
    "\n",
    "tool = TavilySearch(max_result = 2)\n",
    "tool.invoke(\"What is this\")"
   ]
  },
  {
   "cell_type": "code",
   "execution_count": 354,
   "id": "a6fc49b4",
   "metadata": {},
   "outputs": [],
   "source": [
    "def multiply(a:int,b:int) -> int:\n",
    "\n",
    "    \"\"\"Multiply a and b\n",
    "\n",
    "    Args:\n",
    "        a (int): first int\n",
    "        b (int): second int\n",
    "    \"\"\"\n",
    "\n",
    "    return a * b"
   ]
  },
  {
   "cell_type": "code",
   "execution_count": 355,
   "id": "220c297f",
   "metadata": {},
   "outputs": [],
   "source": [
    "tools = [tool,multiply]"
   ]
  },
  {
   "cell_type": "code",
   "execution_count": 356,
   "id": "ba341c31",
   "metadata": {},
   "outputs": [],
   "source": [
    "llm_with_tool = llm.bind_tools(tools)"
   ]
  },
  {
   "cell_type": "code",
   "execution_count": 357,
   "id": "b921114e",
   "metadata": {},
   "outputs": [
    {
     "data": {
      "text/plain": [
       "RunnableBinding(bound=ChatOpenAI(client=<openai.resources.chat.completions.completions.Completions object at 0x11d018c50>, async_client=<openai.resources.chat.completions.completions.AsyncCompletions object at 0x11d01acd0>, root_client=<openai.OpenAI object at 0x11d6698d0>, root_async_client=<openai.AsyncOpenAI object at 0x11d66a6d0>, model_name='gpt-4o-2024-08-06', model_kwargs={}, openai_api_key=SecretStr('**********')), kwargs={'tools': [{'type': 'function', 'function': {'name': 'tavily_search', 'description': 'A search engine optimized for comprehensive, accurate, and trusted results. Useful for when you need to answer questions about current events. It not only retrieves URLs and snippets, but offers advanced search depths, domain management, time range filters, and image search, this tool delivers real-time, accurate, and citation-backed results.Input should be a search query.', 'parameters': {'properties': {'query': {'description': 'Search query to look up', 'type': 'string'}, 'include_domains': {'anyOf': [{'items': {'type': 'string'}, 'type': 'array'}, {'type': 'null'}], 'default': [], 'description': 'A list of domains to restrict search results to.\\n\\n        Use this parameter when:\\n        1. The user explicitly requests information from specific websites (e.g., \"Find climate data from nasa.gov\")\\n        2. The user mentions an organization or company without specifying the domain (e.g., \"Find information about iPhones from Apple\")\\n\\n        In both cases, you should determine the appropriate domains (e.g., [\"nasa.gov\"] or [\"apple.com\"]) and set this parameter.\\n\\n        Results will ONLY come from the specified domains - no other sources will be included.\\n        Default is None (no domain restriction).\\n        '}, 'exclude_domains': {'anyOf': [{'items': {'type': 'string'}, 'type': 'array'}, {'type': 'null'}], 'default': [], 'description': 'A list of domains to exclude from search results.\\n\\n        Use this parameter when:\\n        1. The user explicitly requests to avoid certain websites (e.g., \"Find information about climate change but not from twitter.com\")\\n        2. The user mentions not wanting results from specific organizations without naming the domain (e.g., \"Find phone reviews but nothing from Apple\")\\n\\n        In both cases, you should determine the appropriate domains to exclude (e.g., [\"twitter.com\"] or [\"apple.com\"]) and set this parameter.\\n\\n        Results will filter out all content from the specified domains.\\n        Default is None (no domain exclusion).\\n        '}, 'search_depth': {'anyOf': [{'enum': ['basic', 'advanced'], 'type': 'string'}, {'type': 'null'}], 'default': 'basic', 'description': 'Controls search thoroughness and result comprehensiveness.\\n    \\n        Use \"basic\" for simple queries requiring quick, straightforward answers.\\n        \\n        Use \"advanced\" (default) for complex queries, specialized topics, \\n        rare information, or when in-depth analysis is needed.\\n        '}, 'include_images': {'anyOf': [{'type': 'boolean'}, {'type': 'null'}], 'default': False, 'description': 'Determines if the search returns relevant images along with text results.\\n   \\n        Set to True when the user explicitly requests visuals or when images would \\n        significantly enhance understanding (e.g., \"Show me what black holes look like,\" \\n        \"Find pictures of Renaissance art\").\\n        \\n        Leave as False (default) for most informational queries where text is sufficient.\\n        '}, 'time_range': {'anyOf': [{'enum': ['day', 'week', 'month', 'year'], 'type': 'string'}, {'type': 'null'}], 'default': None, 'description': 'Limits results to content published within a specific timeframe.\\n        \\n        ONLY set this when the user explicitly mentions a time period \\n        (e.g., \"latest AI news,\" \"articles from last week\").\\n        \\n        For less popular or niche topics, use broader time ranges \\n        (\"month\" or \"year\") to ensure sufficient relevant results.\\n   \\n        Options: \"day\" (24h), \"week\" (7d), \"month\" (30d), \"year\" (365d).\\n        \\n        Default is None.\\n        '}, 'topic': {'anyOf': [{'enum': ['general', 'news', 'finance'], 'type': 'string'}, {'type': 'null'}], 'default': 'general', 'description': 'Specifies search category for optimized results.\\n   \\n        Use \"general\" (default) for most queries, INCLUDING those with terms like \\n        \"latest,\" \"newest,\" or \"recent\" when referring to general information.\\n\\n        Use \"finance\" for markets, investments, economic data, or financial news.\\n\\n        Use \"news\" ONLY for politics, sports, or major current events covered by \\n        mainstream media - NOT simply because a query asks for \"new\" information.\\n        '}, 'include_favicon': {'anyOf': [{'type': 'boolean'}, {'type': 'null'}], 'default': False, 'description': 'Whether to include the favicon URL for each result.'}}, 'required': ['query'], 'type': 'object'}}}, {'type': 'function', 'function': {'name': 'multiply', 'description': 'Multiply a and b', 'parameters': {'properties': {'a': {'description': 'first int', 'type': 'integer'}, 'b': {'description': 'second int', 'type': 'integer'}}, 'required': ['a', 'b'], 'type': 'object'}}}]}, config={}, config_factories=[])"
      ]
     },
     "execution_count": 357,
     "metadata": {},
     "output_type": "execute_result"
    }
   ],
   "source": [
    "llm_with_tool"
   ]
  },
  {
   "cell_type": "code",
   "execution_count": 358,
   "id": "3a504be6",
   "metadata": {},
   "outputs": [
    {
     "data": {
      "image/png": "[encoded data removed]",
      "text/plain": [
       "<IPython.core.display.Image object>"
      ]
     },
     "metadata": {},
     "output_type": "display_data"
    }
   ],
   "source": [
    "from langgraph.graph import StateGraph, START, END\n",
    "from langgraph.prebuilt import ToolNode\n",
    "from langgraph.prebuilt import tools_condition\n",
    "\n",
    "\n",
    "def tool_calling_llm(state:State):\n",
    "\n",
    "    return {\"messages\":[llm_with_tool.invoke(state[\"messages\"])]}\n",
    "\n",
    "\n",
    "builder = StateGraph(State)\n",
    "builder.add_node(\"tool_calling_llm\",tool_calling_llm)\n",
    "builder.add_node(\"tools\", ToolNode(tools))\n",
    "\n",
    "\n",
    "builder.add_edge(START,\"tool_calling_llm\")\n",
    "builder.add_conditional_edges(\n",
    "    \"tool_calling_llm\",\n",
    "    tools_condition\n",
    ")\n",
    "\n",
    "builder.add_edge(\"tools\",END)\n",
    "\n",
    "graph = builder.compile()\n",
    "\n",
    "display(Image(graph.get_graph().draw_mermaid_png()))\n"
   ]
  },
  {
   "cell_type": "code",
   "execution_count": 359,
   "id": "4a43bc1f",
   "metadata": {},
   "outputs": [],
   "source": [
    "response = graph.invoke({\"messages\":\"What is the recent meta news?\"})"
   ]
  },
  {
   "cell_type": "code",
   "execution_count": 360,
   "id": "e7aeaa8b",
   "metadata": {},
   "outputs": [
    {
     "data": {
      "text/plain": [
       "'{\"query\": \"recent Meta news\", \"follow_up_questions\": null, \"answer\": null, \"images\": [], \"results\": [{\"url\": \"https://opentools.ai/news/metas-ai-power-move-eight-openai-researchers-join-the-team\", \"title\": \"Meta\\'s AI Power Move: Eight OpenAI Researchers Join the Team - OpenTools\", \"score\": 0.750937, \"published_date\": \"Tue, 01 Jul 2025 00:21:32 GMT\", \"content\": \"In a bold and strategic move, Meta has recruited eight top-tier researchers from OpenAI, sparking industry-wide discussions about talent wars, compensation packages, and the future of AI development. The recent recruitment moves by Meta, involving the acquisition of eight researchers from OpenAI, underscore a significant talent shift within the AI industry. The hiring of eight researchers from OpenAI by Meta has not only sparked a public disagreement between the two companies but has also highlighted the critical importance of talent acquisition in the rapidly evolving AI sector. The future of AI talent acquisition is poised to be a dynamic and highly competitive landscape, driven by recent trends such as Meta’s aggressive recruitment from OpenAI.\", \"raw_content\": null}, {\"url\": \"https://markets.ft.com/data/announce/detail?dockey=600-202507011605PR_NEWS_USPRX____SF22498-1\", \"title\": \"Meta to Announce Second Quarter 2025 Results - Financial Times\", \"score\": 0.74251556, \"published_date\": \"Tue, 01 Jul 2025 20:05:00 GMT\", \"content\": \"Company Announcements\\\\nMeta to Announce Second Quarter 2025 Results\\\\n\\\\n\\\\nMENLO PARK, Calif.\\\\n, July 1, 2025 /PRNewswire/ -- Meta Platforms, Inc. (NASDAQ: META) announced today that the company\\'s second qua\", \"raw_content\": null}, {\"url\": \"https://www.wired.com/story/sam-altman-meta-ai-talent-poaching-spree-leaked-messages/\", \"title\": \"Sam Altman Slams Meta’s AI Talent Poaching Spree: ‘Missionaries Will Beat Mercenaries’ - WIRED\", \"score\": 0.7171114, \"published_date\": \"Tue, 01 Jul 2025 17:46:26 GMT\", \"content\": \"“What Meta is doing will, in my opinion, lead to very deep cultural problems,” said OpenAI CEO Sam Altman in a leaked memo sent to OpenAI researchers. OpenAI CEO Sam Altman is hitting back at Meta CEO Mark Zuckerberg’s recent AI talent poaching spree. On Monday, the Meta CEO sent a memo to staff introducing the company’s new superintelligence team, which will be helmed by Alexandr Wang formerly of Scale AI and Nat Friedman, who previously led GitHub. The list of new hires also included a number of people from OpenAI, including Shengjia Zhao, Shuchao Bi, Jiahui Yu, and Hongyu Ren. OpenAI’s chief research officer Mark Chen told staff that it felt like “someone has broken into our home and stolen something.”\", \"raw_content\": null}, {\"url\": \"https://www.mediapost.com/publications/article/407169/meta-seeks-to-put-brakes-on-overcharging-ad-suit.html?edition=139077\", \"title\": \"Meta Seeks To Put Brakes On \\'Overcharging\\' Ad Suit 07/07/2025 - MediaPost\", \"score\": 0.6493346, \"published_date\": \"Mon, 07 Jul 2025 13:36:12 GMT\", \"content\": \"*   Become A MediaPost Member Subscribe to your choice of industry specific newsletters, save $100 on conferences, search member directories, comment on stories and more. Meta\\'s new motion comes in a class-action complaintbroughtearlier this year by Iron Tribe Fitness,which alleged Facebook\\'s auction system failed to protect advertisers from overbidding.\", \"raw_content\": null}, {\"url\": \"https://www.investopedia.com/meta-announces-formation-of-superintelligence-unit-amid-ai-recruiting-push-11764265\", \"title\": \"Meta Announces Formation of \\'Superintelligence\\' Unit Amid AI Recruiting Push - Investopedia\", \"score\": 0.6356076, \"published_date\": \"Tue, 01 Jul 2025 13:40:25 GMT\", \"content\": \"Meta Announces Formation of \\'Superintelligence\\' Unit Amid AI Recruiting Push\\\\nChesnot / Getty Images\\\\nKey Takeaways\\\\n Meta Platforms (META) informed employees on Monday of the creation of a new unit insi\", \"raw_content\": null}], \"response_time\": 0.59}'"
      ]
     },
     "execution_count": 360,
     "metadata": {},
     "output_type": "execute_result"
    }
   ],
   "source": [
    "response['messages'][-1].content"
   ]
  },
  {
   "cell_type": "code",
   "execution_count": 361,
   "id": "2887b334",
   "metadata": {},
   "outputs": [
    {
     "name": "stdout",
     "output_type": "stream",
     "text": [
      "================================\u001b[1m Human Message \u001b[0m=================================\n",
      "\n",
      "What is the recent meta news?\n",
      "==================================\u001b[1m Ai Message \u001b[0m==================================\n",
      "Tool Calls:\n",
      "  tavily_search (call_qLcTLsJowVQyXHxIX3E0R8cu)\n",
      " Call ID: call_qLcTLsJowVQyXHxIX3E0R8cu\n",
      "  Args:\n",
      "    query: recent Meta news\n",
      "    topic: news\n",
      "=================================\u001b[1m Tool Message \u001b[0m=================================\n",
      "Name: tavily_search\n",
      "\n",
      "{\"query\": \"recent Meta news\", \"follow_up_questions\": null, \"answer\": null, \"images\": [], \"results\": [{\"url\": \"https://opentools.ai/news/metas-ai-power-move-eight-openai-researchers-join-the-team\", \"title\": \"Meta's AI Power Move: Eight OpenAI Researchers Join the Team - OpenTools\", \"score\": 0.750937, \"published_date\": \"Tue, 01 Jul 2025 00:21:32 GMT\", \"content\": \"In a bold and strategic move, Meta has recruited eight top-tier researchers from OpenAI, sparking industry-wide discussions about talent wars, compensation packages, and the future of AI development. The recent recruitment moves by Meta, involving the acquisition of eight researchers from OpenAI, underscore a significant talent shift within the AI industry. The hiring of eight researchers from OpenAI by Meta has not only sparked a public disagreement between the two companies but has also highlighted the critical importance of talent acquisition in the rapidly evolving AI sector. The future of AI talent acquisition is poised to be a dynamic and highly competitive landscape, driven by recent trends such as Meta’s aggressive recruitment from OpenAI.\", \"raw_content\": null}, {\"url\": \"https://markets.ft.com/data/announce/detail?dockey=600-202507011605PR_NEWS_USPRX____SF22498-1\", \"title\": \"Meta to Announce Second Quarter 2025 Results - Financial Times\", \"score\": 0.74251556, \"published_date\": \"Tue, 01 Jul 2025 20:05:00 GMT\", \"content\": \"Company Announcements\\nMeta to Announce Second Quarter 2025 Results\\n\\n\\nMENLO PARK, Calif.\\n, July 1, 2025 /PRNewswire/ -- Meta Platforms, Inc. (NASDAQ: META) announced today that the company's second qua\", \"raw_content\": null}, {\"url\": \"https://www.wired.com/story/sam-altman-meta-ai-talent-poaching-spree-leaked-messages/\", \"title\": \"Sam Altman Slams Meta’s AI Talent Poaching Spree: ‘Missionaries Will Beat Mercenaries’ - WIRED\", \"score\": 0.7171114, \"published_date\": \"Tue, 01 Jul 2025 17:46:26 GMT\", \"content\": \"“What Meta is doing will, in my opinion, lead to very deep cultural problems,” said OpenAI CEO Sam Altman in a leaked memo sent to OpenAI researchers. OpenAI CEO Sam Altman is hitting back at Meta CEO Mark Zuckerberg’s recent AI talent poaching spree. On Monday, the Meta CEO sent a memo to staff introducing the company’s new superintelligence team, which will be helmed by Alexandr Wang formerly of Scale AI and Nat Friedman, who previously led GitHub. The list of new hires also included a number of people from OpenAI, including Shengjia Zhao, Shuchao Bi, Jiahui Yu, and Hongyu Ren. OpenAI’s chief research officer Mark Chen told staff that it felt like “someone has broken into our home and stolen something.”\", \"raw_content\": null}, {\"url\": \"https://www.mediapost.com/publications/article/407169/meta-seeks-to-put-brakes-on-overcharging-ad-suit.html?edition=139077\", \"title\": \"Meta Seeks To Put Brakes On 'Overcharging' Ad Suit 07/07/2025 - MediaPost\", \"score\": 0.6493346, \"published_date\": \"Mon, 07 Jul 2025 13:36:12 GMT\", \"content\": \"*   Become A MediaPost Member Subscribe to your choice of industry specific newsletters, save $100 on conferences, search member directories, comment on stories and more. Meta's new motion comes in a class-action complaintbroughtearlier this year by Iron Tribe Fitness,which alleged Facebook's auction system failed to protect advertisers from overbidding.\", \"raw_content\": null}, {\"url\": \"https://www.investopedia.com/meta-announces-formation-of-superintelligence-unit-amid-ai-recruiting-push-11764265\", \"title\": \"Meta Announces Formation of 'Superintelligence' Unit Amid AI Recruiting Push - Investopedia\", \"score\": 0.6356076, \"published_date\": \"Tue, 01 Jul 2025 13:40:25 GMT\", \"content\": \"Meta Announces Formation of 'Superintelligence' Unit Amid AI Recruiting Push\\nChesnot / Getty Images\\nKey Takeaways\\n Meta Platforms (META) informed employees on Monday of the creation of a new unit insi\", \"raw_content\": null}], \"response_time\": 0.59}\n"
     ]
    }
   ],
   "source": [
    "for m in response['messages']:\n",
    "    m.pretty_print()"
   ]
  },
  {
   "cell_type": "code",
   "execution_count": 363,
   "id": "3850a42a",
   "metadata": {},
   "outputs": [],
   "source": [
    "response = graph.invoke({\"messages\":\"give me the recent microsoft news and then multiply 573874857139084 by 1893472036043\"})"
   ]
  },
  {
   "cell_type": "code",
   "execution_count": 364,
   "id": "c7bcf0ac",
   "metadata": {},
   "outputs": [
    {
     "data": {
      "text/plain": [
       "'1086615994181027135512004612'"
      ]
     },
     "execution_count": 364,
     "metadata": {},
     "output_type": "execute_result"
    }
   ],
   "source": [
    "response['messages'][-1].content"
   ]
  },
  {
   "cell_type": "code",
   "execution_count": 365,
   "id": "1462dff7",
   "metadata": {},
   "outputs": [
    {
     "name": "stdout",
     "output_type": "stream",
     "text": [
      "================================\u001b[1m Human Message \u001b[0m=================================\n",
      "\n",
      "give me the recent microsoft news and then multiply 573874857139084 by 1893472036043\n",
      "==================================\u001b[1m Ai Message \u001b[0m==================================\n",
      "Tool Calls:\n",
      "  tavily_search (call_4PUnl5rXtfknaNM2Xd9k8mzq)\n",
      " Call ID: call_4PUnl5rXtfknaNM2Xd9k8mzq\n",
      "  Args:\n",
      "    query: Microsoft news\n",
      "    time_range: month\n",
      "    topic: news\n",
      "  multiply (call_qOiOwK9E9WRKl8ku7zigCapB)\n",
      " Call ID: call_qOiOwK9E9WRKl8ku7zigCapB\n",
      "  Args:\n",
      "    a: 573874857139084\n",
      "    b: 1893472036043\n",
      "=================================\u001b[1m Tool Message \u001b[0m=================================\n",
      "Name: tavily_search\n",
      "\n",
      "{\"query\": \"Microsoft news\", \"follow_up_questions\": null, \"answer\": null, \"images\": [], \"results\": [{\"url\": \"https://www.newsbytesapp.com/news/business/microsoft-fires-9-000-employees-across-multiple-teams/story\", \"title\": \"Microsoft fires 4% of its workforce: Who are affected? - NewsBytes\", \"score\": 0.57408494, \"published_date\": \"Wed, 02 Jul 2025 14:55:21 GMT\", \"content\": \"Microsoft fires 4% of its workforce: Who are affected? Home/News/Business News/Microsoft fires 4% of its workforce: Who are affected? Microsoft Microsoft fires 4% of its workforce: Who are affected? Microsoft ### Microsoft Microsoft's gaming division prepares for more layoffs after studio shutdownsMicrosoft Image 3: Microsoft fires 4% of its workforce: Who are affected? Microsoft fires 4% of its workforce: Who are affected? This is not the first time this year that Microsoft has downsized its workforce. The latest layoffs have hit employees in Microsoft's Xbox division, Microsoft Gaming. ### History of layoffs at Microsoft The current round of layoffs follows a series of job cuts at Microsoft over the past year. Despite the job cuts, Microsoft has continued to perform well financially.\", \"raw_content\": null}, {\"url\": \"https://www.jpost.com/consumerism/article-859403\", \"title\": \"Microsoft replaces the hated \\\"Blue Screen of Death\\\" with a simple black version - The Jerusalem Post\", \"score\": 0.53415143, \"published_date\": \"Wed, 02 Jul 2025 07:25:00 GMT\", \"content\": \"Microsoft replaces \\\"Blue Screen of Death\\\" with a simple black version | The Jerusalem Post Image 2: The Jerusalem Post - Israel News Microsoft announced that as part of a new update to Windows 11, it will replace the recognizable blue color with a black screen, as part of an effort to present information more clearly to users and system administrators. Image 4:  Microsoft replaces the hated ''Blue Screen of Death'' with a simple black version (credit: Microsoft, official site) Microsoft replaces the hated ''Blue Screen of Death'' with a simple black version (credit: Microsoft, official site) These cookies do not store any personally identifiable information. These cookies collect information for analytics and to personalize your experience with targeted ads.\", \"raw_content\": null}, {\"url\": \"https://www.premierleague.com/en/news/4338015/premier-league-announces-partnership-with-microsoft\", \"title\": \"Premier League announces partnership with Microsoft - Premier League\", \"score\": 0.512376, \"published_date\": \"Tue, 01 Jul 2025 12:43:37 GMT\", \"content\": \"Premier League announces partnership with Microsoft\\nNews\\nMicrosoft to become official cloud and AI partner for Premier League's new digital platforms\\nThe Premier League and Microsoft Corp. on Tuesday \", \"raw_content\": null}, {\"url\": \"https://www.startupecosystem.ca/news/microsoft-closes-operations-in-pakistan-amid-global-restructuring/\", \"title\": \"Microsoft Closes Operations in Pakistan Amid Global Restructuring - Startup Ecosystem Canada\", \"score\": 0.5122296, \"published_date\": \"Fri, 04 Jul 2025 18:32:42 GMT\", \"content\": \"Microsoft Closes Operations in Pakistan Amid Global Restructuring - Startup Ecosystem Canada Image 1: Startup Ecosystem Canada *   News Image 2: Startup Ecosystem Canada *   News Image 3: Microsoft Closes Operations in Pakistan Amid Global Restructuring Microsoft Closes Operations in Pakistan Amid Global Restructuring Microsoft has announced the closure of its operations in Pakistan after 25 years, citing a broader global restructuring and a shift towards a cloud-based, partner-led model. #### Microsoft is closing its local operations in Pakistan #### Microsoft shuts Pakistan office after 25 years amid global overhaul Image 9: Startup Eco System Image 11: Startup Eco System Image 13: Startup Eco System Image 15: Startup Eco System *   News\", \"raw_content\": null}, {\"url\": \"https://www.neowin.net/news/microsoft-removes-powershell-20-from-windows-11-in-build-27891/\", \"title\": \"Microsoft removes PowerShell 2.0 from Windows 11 in build 27891 - Neowin\", \"score\": 0.507544, \"published_date\": \"Thu, 03 Jul 2025 17:22:00 GMT\", \"content\": \"19 hours ago Image 38: A Windows 11 Insider Preview banner### Microsoft removes PowerShell 2.0 from Windows 11 in build 27891 Jul 3, 2025 Image 39: Windows 11 24h2 image### KB5060829: Microsoft confirms new upcoming Windows 11 24H2 feature is triggering Firewall Jul 3, 2025 Image 40: Windows 10 and 11 Wallpapers### Microsoft quietly installs KB5001716 on your Windows 11 and 10 PCs *   Image 41: Windows 11s new Start menu Category view### Is the Start menu in Windows actually useful? Image 50 Image 51 Image 59 Image 60 Image 61 Image 62 Image 71: Windows 10 and 11 Wallpapers Image 73: Windows 11s new Start menu Category view editorial ### Is the Start menu in Windows actually useful?\", \"raw_content\": null}], \"response_time\": 0.39}\n",
      "=================================\u001b[1m Tool Message \u001b[0m=================================\n",
      "Name: multiply\n",
      "\n",
      "1086615994181027135512004612\n"
     ]
    }
   ],
   "source": [
    "for m in response['messages']:\n",
    "    m.pretty_print()"
   ]
  },
  {
   "cell_type": "code",
   "execution_count": null,
   "id": "3f04a22b",
   "metadata": {},
   "outputs": [],
   "source": []
  },
  {
   "cell_type": "code",
   "execution_count": 366,
   "id": "b8f4f826",
   "metadata": {},
   "outputs": [
    {
     "data": {
      "image/png": "[encoded data removed]",
      "text/plain": [
       "<IPython.core.display.Image object>"
      ]
     },
     "metadata": {},
     "output_type": "display_data"
    }
   ],
   "source": [
    "from langgraph.graph import StateGraph, START, END\n",
    "from langgraph.prebuilt import ToolNode\n",
    "from langgraph.prebuilt import tools_condition\n",
    "\n",
    "\n",
    "def tool_calling_llm(state:State):\n",
    "\n",
    "    return {\"messages\":[llm_with_tool.invoke(state[\"messages\"])]}\n",
    "\n",
    "\n",
    "builder = StateGraph(State)\n",
    "builder.add_node(\"tool_calling_llm\",tool_calling_llm)\n",
    "builder.add_node(\"tools\", ToolNode(tools))\n",
    "\n",
    "\n",
    "builder.add_edge(START,\"tool_calling_llm\")\n",
    "builder.add_conditional_edges(\n",
    "    \"tool_calling_llm\",\n",
    "    tools_condition\n",
    ")\n",
    "\n",
    "builder.add_edge(\"tools\",\"tool_calling_llm\")\n",
    "\n",
    "builder.add_edge(\"tool_calling_llm\",END)\n",
    "\n",
    "\n",
    "graph = builder.compile()\n",
    "\n",
    "display(Image(graph.get_graph().draw_mermaid_png()))\n"
   ]
  },
  {
   "cell_type": "code",
   "execution_count": 368,
   "id": "8e85dacd",
   "metadata": {},
   "outputs": [
    {
     "name": "stdout",
     "output_type": "stream",
     "text": [
      "================================\u001b[1m Human Message \u001b[0m=================================\n",
      "\n",
      "give me the recent microsoft news and then multiply 573874857139084 by 1893472036043\n",
      "==================================\u001b[1m Ai Message \u001b[0m==================================\n",
      "Tool Calls:\n",
      "  tavily_search (call_KCqxMr9F4M5uCUyxSEELBcrL)\n",
      " Call ID: call_KCqxMr9F4M5uCUyxSEELBcrL\n",
      "  Args:\n",
      "    query: Microsoft recent news\n",
      "    search_depth: basic\n",
      "    topic: news\n",
      "  multiply (call_FWbgAjxJTAiTlg12PSF7auUw)\n",
      " Call ID: call_FWbgAjxJTAiTlg12PSF7auUw\n",
      "  Args:\n",
      "    a: 573874857139084\n",
      "    b: 1893472036043\n",
      "=================================\u001b[1m Tool Message \u001b[0m=================================\n",
      "Name: tavily_search\n",
      "\n",
      "{\"query\": \"Microsoft recent news\", \"follow_up_questions\": null, \"answer\": null, \"images\": [], \"results\": [{\"url\": \"https://www.globalvillagespace.com/microsoft-ends-25-year-journey-in-pakistan-social-media-reacts/\", \"title\": \"Microsoft Ends 25-Year Journey in Pakistan, Social Media Reacts - Global Village Space\", \"score\": 0.65412235, \"published_date\": \"Fri, 04 Jul 2025 07:21:23 GMT\", \"content\": \"Microsoft Ends 25-Year Journey in Pakistan, Social Media Reacts - Global Village Space In a landmark development for Pakistan’s technology landscape, Microsoft has officially ended its operations in the country, closing the chapter on a 25-year presence that began with ambitious goals for digital transformation and international collaboration. 3✕Here are some notifications you missed:Here are some notifications you missed:Recent Notifications Recent NotificationsImage 19: Microsoft Ends 25-Year Journey in Pakistan, Social Media ReactsMicrosoft Ends 25-Year Journey in Pakistan, Social Media Reacts 3 minutes agoImage 20: Russia becomes first country to recognise TalibanRussia becomes first country to recognise Taliban 15 minutes agoImage 21: Hard work pays off for India captain Gill with double century against EnglandHard work pays off for India captain Gill with double century against England 21 minutes ago Error.\", \"raw_content\": null}, {\"url\": \"https://www.chicagotribune.com/2025/07/02/microsoft-layoffs-2/\", \"title\": \"Microsoft’s largest layoff in years hits Xbox, sales and other divisions - Chicago Tribune\", \"score\": 0.6186197, \"published_date\": \"Wed, 02 Jul 2025 23:14:51 GMT\", \"content\": \"*   News Image 1: Chicago Tribune Image 9: FILE – A Microsoft sign and logo are pictured at the company’s headquarters, Friday, April 4, 2025, in Redmond, Wash. Do This Immediately (At Home) #### Caitlin Clark Steps out With Her New Partner and Stuns Fans Pal Game Do This Immediately (At Home) #### 30+ Coolest Gifts Nobody Would Think of Trending Gifts Do This Immediately (At Home) #### Boat Missing for 20 Years Reappears: What Fishermen Found Inside! Do This Immediately (At Home) #### Why Nails Become Ridged: a Vital Sign Buzzday Do This Immediately (At Home) #### Vertigo & Dizziness? Do This Immediately (At Home) WellnessGaze Vertigo Image 51: Chicago Tribune\", \"raw_content\": null}, {\"url\": \"https://www.neowin.net/news/microsoft-removes-powershell-20-from-windows-11-in-build-27891/\", \"title\": \"Microsoft removes PowerShell 2.0 from Windows 11 in build 27891 - Neowin\", \"score\": 0.598524, \"published_date\": \"Thu, 03 Jul 2025 17:22:00 GMT\", \"content\": \"19 hours ago Image 38: A Windows 11 Insider Preview banner### Microsoft removes PowerShell 2.0 from Windows 11 in build 27891 Jul 3, 2025 Image 39: Windows 11 24h2 image### KB5060829: Microsoft confirms new upcoming Windows 11 24H2 feature is triggering Firewall Jul 3, 2025 Image 40: Windows 10 and 11 Wallpapers### Microsoft quietly installs KB5001716 on your Windows 11 and 10 PCs *   Image 41: Windows 11s new Start menu Category view### Is the Start menu in Windows actually useful? Image 50 Image 51 Image 59 Image 60 Image 61 Image 62 Image 71: Windows 10 and 11 Wallpapers Image 73: Windows 11s new Start menu Category view editorial ### Is the Start menu in Windows actually useful?\", \"raw_content\": null}, {\"url\": \"https://apnews.com/article/microsoft-layoffs-xbox-f44079957b12370f72e24edebe9fcc6b\", \"title\": \"Microsoft announces another mass layoff, thousands of workers affected - AP News\", \"score\": 0.580091, \"published_date\": \"Wed, 02 Jul 2025 14:06:00 GMT\", \"content\": \"Microsoft announces another mass layoff, thousands of workers affected | AP News More From AP News  More From AP News    More From AP News  More From AP News    He was 90.AP News AP News More From AP News  More From AP News    More From AP News  US calls reported threats by pro-Iran hackers to release Trump-tied material a 'smear campaign'A news report says hackers supporting Iran have threatened to release emails supposedly stolen from people connected to President Donald Trump.AP News If you are a resident of a US state with applicable laws, you may opt out of the sale of your personal info or sharing/processing of your personal information for targeted advertising in the “Manage Your Privacy Choices” section below.\", \"raw_content\": null}, {\"url\": \"https://www.newsbytesapp.com/news/business/microsoft-fires-9-000-employees-across-multiple-teams/story\", \"title\": \"Microsoft fires 4% of its workforce: Who are affected? - NewsBytes\", \"score\": 0.56200886, \"published_date\": \"Wed, 02 Jul 2025 14:55:21 GMT\", \"content\": \"Microsoft fires 4% of its workforce: Who are affected? Home/News/Business News/Microsoft fires 4% of its workforce: Who are affected? Microsoft Microsoft fires 4% of its workforce: Who are affected? Microsoft ### Microsoft Microsoft's gaming division prepares for more layoffs after studio shutdownsMicrosoft Image 3: Microsoft fires 4% of its workforce: Who are affected? Microsoft fires 4% of its workforce: Who are affected? This is not the first time this year that Microsoft has downsized its workforce. The latest layoffs have hit employees in Microsoft's Xbox division, Microsoft Gaming. ### History of layoffs at Microsoft The current round of layoffs follows a series of job cuts at Microsoft over the past year. Despite the job cuts, Microsoft has continued to perform well financially.\", \"raw_content\": null}], \"response_time\": 0.46}\n",
      "=================================\u001b[1m Tool Message \u001b[0m=================================\n",
      "Name: multiply\n",
      "\n",
      "1086615994181027135512004612\n",
      "==================================\u001b[1m Ai Message \u001b[0m==================================\n",
      "\n",
      "### Recent Microsoft News:\n",
      "\n",
      "1. **Microsoft Ends Operations in Pakistan:**\n",
      "   - Microsoft has officially concluded its 25-year presence in Pakistan, marking the end of significant digital transformation initiatives in the country. [Read more](https://www.globalvillagespace.com/microsoft-ends-25-year-journey-in-pakistan-social-media-reacts/)\n",
      "\n",
      "2. **Microsoft Layoffs Impact Xbox and Other Divisions:**\n",
      "   - Microsoft's latest round of layoffs has affected several divisions, including Xbox and sales, marking one of the largest layoffs in recent years. [Read more](https://www.chicagotribune.com/2025/07/02/microsoft-layoffs-2/)\n",
      "\n",
      "3. **PowerShell 2.0 Removed from Windows 11:**\n",
      "   - Microsoft has removed PowerShell 2.0 in the latest Windows 11 build, reflecting ongoing updates and changes. [Read more](https://www.neowin.net/news/microsoft-removes-powershell-20-from-windows-11-in-build-27891/)\n",
      "\n",
      "4. **Mass Layoff Announcement:**\n",
      "   - Microsoft announced another significant layoff affecting thousands of employees. This continues a trend of workforce reductions at the company. [Read more](https://apnews.com/article/microsoft-layoffs-xbox-f44079957b12370f72e24edebe9fcc6b)\n",
      "\n",
      "5. **Microsoft Fires 4% of Workforce:**\n",
      "   - As part of restructuring, Microsoft laid off 4% of its workforce, affecting teams including those within the gaming division. [Read more](https://www.newsbytesapp.com/news/business/microsoft-fires-9-000-employees-across-multiple-teams/story)\n",
      "\n",
      "### Multiplication Result:\n",
      "\n",
      "The product of 573874857139084 and 1893472036043 is **1,086,615,994,181,027,135,512,004,612**.\n"
     ]
    }
   ],
   "source": [
    "response = graph.invoke({\"messages\":\"give me the recent microsoft news and then multiply 573874857139084 by 1893472036043\"})\n",
    "\n",
    "\n",
    "response['messages'][-1].content\n",
    "\n",
    "for m in response['messages']:\n",
    "    m.pretty_print()\n",
    "\n"
   ]
  },
  {
   "cell_type": "code",
   "execution_count": 371,
   "id": "6dfe2656",
   "metadata": {},
   "outputs": [
    {
     "name": "stdout",
     "output_type": "stream",
     "text": [
      "================================\u001b[1m Human Message \u001b[0m=================================\n",
      "\n",
      " hi how are you ?? my name is jordan\n",
      "==================================\u001b[1m Ai Message \u001b[0m==================================\n",
      "\n",
      "Hello Jordan! I'm just a virtual assistant, so I don't have feelings, but I'm here to help you with any questions or tasks you might have. How can I assist you today?\n"
     ]
    }
   ],
   "source": [
    "response = graph.invoke({\"messages\":\" hi how are you ?? my name is jordan\"})\n",
    "\n",
    "\n",
    "response['messages'][-1].content\n",
    "\n",
    "for m in response['messages']:\n",
    "    m.pretty_print()\n",
    "\n"
   ]
  },
  {
   "cell_type": "code",
   "execution_count": 372,
   "id": "efe07f83",
   "metadata": {},
   "outputs": [
    {
     "name": "stdout",
     "output_type": "stream",
     "text": [
      "================================\u001b[1m Human Message \u001b[0m=================================\n",
      "\n",
      "hey what is my name\n",
      "==================================\u001b[1m Ai Message \u001b[0m==================================\n",
      "\n",
      "I'm sorry, but I don't have access to personal data about individuals unless it has been shared with me in the course of our conversation. Therefore, I don't know your name. If you tell me your name, I can address you accordingly!\n"
     ]
    }
   ],
   "source": [
    "response = graph.invoke({\"messages\":\"hey what is my name\"})\n",
    "\n",
    "\n",
    "response['messages'][-1].content\n",
    "\n",
    "for m in response['messages']:\n",
    "    m.pretty_print()\n",
    "\n"
   ]
  },
  {
   "cell_type": "code",
   "execution_count": 377,
   "id": "30b886ee",
   "metadata": {},
   "outputs": [
    {
     "data": {
      "image/png": "[encoded data removed]",
      "text/plain": [
       "<IPython.core.display.Image object>"
      ]
     },
     "metadata": {},
     "output_type": "display_data"
    }
   ],
   "source": [
    "from langgraph.graph import StateGraph, START, END\n",
    "from langgraph.prebuilt import ToolNode\n",
    "from langgraph.prebuilt import tools_condition\n",
    "from langgraph.checkpoint.memory import MemorySaver\n",
    "\n",
    "memory = MemorySaver()\n",
    "\n",
    "def tool_calling_llm(state:State):\n",
    "\n",
    "    return {\"messages\":[llm_with_tool.invoke(state[\"messages\"])]}\n",
    "\n",
    "\n",
    "builder = StateGraph(State)\n",
    "builder.add_node(\"tool_calling_llm\",tool_calling_llm)\n",
    "builder.add_node(\"tools\", ToolNode(tools))\n",
    "\n",
    "\n",
    "builder.add_edge(START,\"tool_calling_llm\")\n",
    "builder.add_conditional_edges(\n",
    "    \"tool_calling_llm\",\n",
    "    tools_condition\n",
    ")\n",
    "\n",
    "builder.add_edge(\"tools\",\"tool_calling_llm\")\n",
    "\n",
    "builder.add_edge(\"tool_calling_llm\",END)\n",
    "\n",
    "\n",
    "graph = builder.compile(checkpointer=memory)\n",
    "\n",
    "display(Image(graph.get_graph().draw_mermaid_png()))\n"
   ]
  },
  {
   "cell_type": "code",
   "execution_count": null,
   "id": "6ad87788",
   "metadata": {},
   "outputs": [
    {
     "name": "stdout",
     "output_type": "stream",
     "text": [
      "================================\u001b[1m Human Message \u001b[0m=================================\n",
      "\n",
      "Hi I am jamalath basha from ap ceeded area\n",
      "==================================\u001b[1m Ai Message \u001b[0m==================================\n",
      "\n",
      "Hello Jamalath Basha! How can I assist you today?\n"
     ]
    }
   ],
   "source": [
    "config={\"configurable\":{\"thread_id\":\"1\"}}\n",
    "\n",
    "response = graph.invoke({\"messages\":\"Hi I am jamalath basha from ap ceeded area\"}, config=config)\n",
    "\n",
    "\n",
    "response['messages'][-1].content\n",
    "\n",
    "for m in response['messages']:\n",
    "    m.pretty_print()\n"
   ]
  },
  {
   "cell_type": "code",
   "execution_count": 379,
   "id": "175b5725",
   "metadata": {},
   "outputs": [
    {
     "name": "stdout",
     "output_type": "stream",
     "text": [
      "================================\u001b[1m Human Message \u001b[0m=================================\n",
      "\n",
      "Hi I am jamalath basha from ap ceeded area\n",
      "==================================\u001b[1m Ai Message \u001b[0m==================================\n",
      "\n",
      "Hello Jamalath Basha! How can I assist you today?\n",
      "================================\u001b[1m Human Message \u001b[0m=================================\n",
      "\n",
      "hey what is my name\n",
      "==================================\u001b[1m Ai Message \u001b[0m==================================\n",
      "\n",
      "Your name is Jamalath Basha. How can I assist you further?\n"
     ]
    }
   ],
   "source": [
    "response = graph.invoke({\"messages\":\"hey what is my name\"}, config=config)\n",
    "\n",
    "\n",
    "response['messages'][-1].content\n",
    "\n",
    "for m in response['messages']:\n",
    "    m.pretty_print()\n"
   ]
  },
  {
   "cell_type": "markdown",
   "id": "809a7161",
   "metadata": {},
   "source": [
    "# streaming"
   ]
  },
  {
   "cell_type": "code",
   "execution_count": null,
   "id": "46e5411b",
   "metadata": {},
   "outputs": [],
   "source": []
  },
  {
   "cell_type": "code",
   "execution_count": null,
   "id": "19f9def4",
   "metadata": {},
   "outputs": [
    {
     "data": {
      "image/png": "[encoded data removed]",
      "text/plain": [
       "<IPython.core.display.Image object>"
      ]
     },
     "metadata": {},
     "output_type": "display_data"
    }
   ],
   "source": [
    "from langgraph.graph import StateGraph, START, END\n",
    "from langgraph.prebuilt import ToolNode\n",
    "from langgraph.prebuilt import tools_condition\n",
    "from langgraph.checkpoint.memory import MemorySaver\n",
    "\n",
    "memory = MemorySaver()\n",
    "\n",
    "def superbot(state:State):\n",
    "\n",
    "    return {\"messages\":[llm_with_tool.invoke(state[\"messages\"])]}\n",
    "\n",
    "\n",
    "builder = StateGraph(State)\n",
    "builder.add_node(\"SuperBot\",superbot)\n",
    "\n",
    "\n",
    "builder.add_edge(START,\"SuperBot\")\n",
    "builder.add_edge(\"SuperBot\",END)\n",
    "\n",
    "\n",
    "graph = builder.compile(checkpointer=memory)\n",
    "\n",
    "display(Image(graph.get_graph().draw_mermaid_png()))\n"
   ]
  },
  {
   "cell_type": "code",
   "execution_count": 387,
   "id": "99e32e13",
   "metadata": {},
   "outputs": [
    {
     "data": {
      "image/png": "[encoded data removed]",
      "text/plain": [
       "<IPython.core.display.Image object>"
      ]
     },
     "metadata": {},
     "output_type": "display_data"
    }
   ],
   "source": [
    "from typing import Annotated\n",
    "\n",
    "from langchain_tavily import TavilySearch\n",
    "from langchain_core.tools import tool\n",
    "from typing_extensions import TypedDict\n",
    "\n",
    "from langgraph.checkpoint.memory import MemorySaver\n",
    "from langgraph.graph import StateGraph, START, END\n",
    "from langgraph.graph.message import add_messages\n",
    "from langgraph.prebuilt import ToolNode, tools_condition\n",
    "\n",
    "from langgraph.types import Command, interrupt\n",
    "\n",
    "class State(TypedDict):\n",
    "    messages: Annotated[list, add_messages]\n",
    "\n",
    "graph_builder = StateGraph(State)\n",
    "\n",
    "@tool\n",
    "def human_assistance(query: str) -> str:\n",
    "    \"\"\"Request assistance from a human.\"\"\"\n",
    "    human_response = interrupt({\"query\": query})\n",
    "    return human_response[\"data\"]\n",
    "\n",
    "tool = TavilySearch(max_results=2)\n",
    "tools = [tool, human_assistance]\n",
    "llm_with_tools = llm.bind_tools(tools)\n",
    "\n",
    "def chatbot(state: State):\n",
    "    message = llm_with_tools.invoke(state[\"messages\"])\n",
    "    \n",
    "    \n",
    "    return {\"messages\": [message]}\n",
    "\n",
    "graph_builder.add_node(\"chatbot\", chatbot)\n",
    "\n",
    "tool_node = ToolNode(tools=tools)\n",
    "graph_builder.add_node(\"tools\", tool_node)\n",
    "\n",
    "graph_builder.add_conditional_edges(\n",
    "    \"chatbot\",\n",
    "    tools_condition,\n",
    ")\n",
    "graph_builder.add_edge(\"tools\", \"chatbot\")\n",
    "graph_builder.add_edge(START, \"chatbot\")\n",
    "\n",
    "\n",
    "graph = graph_builder.compile(checkpointer=memory)\n",
    "\n",
    "display(Image(graph.get_graph().draw_mermaid_png()))\n"
   ]
  },
  {
   "cell_type": "code",
   "execution_count": 391,
   "id": "37c12548",
   "metadata": {},
   "outputs": [
    {
     "name": "stdout",
     "output_type": "stream",
     "text": [
      "================================\u001b[1m Human Message \u001b[0m=================================\n",
      "\n",
      "I need some expert guidance for building some cool AI agents. Could you request assistance for me?\n",
      "==================================\u001b[1m Ai Message \u001b[0m==================================\n",
      "Tool Calls:\n",
      "  human_assistance (call_mfWCTwims1VJNSJ68QJ7tr2l)\n",
      " Call ID: call_mfWCTwims1VJNSJ68QJ7tr2l\n",
      "  Args:\n",
      "    query: I need expert guidance on building AI agents, including techniques, tools, and best practices. Looking for detailed advice from professionals in the field.\n"
     ]
    }
   ],
   "source": [
    "\n",
    "user_input = \"I need some expert guidance for building some cool AI agents. Could you request assistance for me?\"\n",
    "\n",
    "config = {\"configurable\" : {\"thread_id\":\"7\"}}\n",
    "\n",
    "\n",
    "events = graph.stream(\n",
    "    {\"messages\" : user_input},\n",
    "    config,\n",
    "    stream_mode = 'values',\n",
    ")\n",
    "\n",
    "for event in events:\n",
    "    if 'messages' in event:\n",
    "        event[\"messages\"][-1].pretty_print()\n",
    "\n"
   ]
  },
  {
   "cell_type": "code",
   "execution_count": 393,
   "id": "ae132638",
   "metadata": {},
   "outputs": [
    {
     "name": "stdout",
     "output_type": "stream",
     "text": [
      "==================================\u001b[1m Ai Message \u001b[0m==================================\n",
      "Tool Calls:\n",
      "  human_assistance (call_mfWCTwims1VJNSJ68QJ7tr2l)\n",
      " Call ID: call_mfWCTwims1VJNSJ68QJ7tr2l\n",
      "  Args:\n",
      "    query: I need expert guidance on building AI agents, including techniques, tools, and best practices. Looking for detailed advice from professionals in the field.\n",
      "=================================\u001b[1m Tool Message \u001b[0m=================================\n",
      "Name: human_assistance\n",
      "\n",
      "{\"We, the experts are here to help!! We'd recommend you to check out Langgraph to build some cool agents. It is a very good and reliable tool and simple to use.\"}\n",
      "==================================\u001b[1m Ai Message \u001b[0m==================================\n",
      "\n",
      "Expert guidance is now available! The experts recommend checking out Langgraph, a reliable and user-friendly tool for building AI agents. It should provide you with the techniques, tools, and best practices you need. If you have any more questions, feel free to ask!\n"
     ]
    }
   ],
   "source": [
    "human_feed = {\"We, the experts are here to help!! We'd recommend you to check out Langgraph to build some cool agents.\"\n",
    "              \" It is a very good and reliable tool and simple to use.\"\n",
    "              }\n",
    "\n",
    "human_command = Command(resume={\"data\": human_feed})\n",
    "\n",
    "events = graph.stream(human_command, config, stream_mode = 'values')\n",
    "\n",
    "for event in events:\n",
    "    if \"messages\" in event:\n",
    "        event[\"messages\"][-1].pretty_print()"
   ]
  },
  {
   "cell_type": "code",
   "execution_count": null,
   "id": "fed84baa",
   "metadata": {},
   "outputs": [],
   "source": [
    "\n"
   ]
  },
  {
   "cell_type": "code",
   "execution_count": null,
   "id": "54767138",
   "metadata": {},
   "outputs": [],
   "source": []
  },
  {
   "cell_type": "code",
   "execution_count": null,
   "id": "34b346df",
   "metadata": {},
   "outputs": [],
   "source": []
  },
  {
   "cell_type": "code",
   "execution_count": null,
   "id": "a8deaa3b",
   "metadata": {},
   "outputs": [],
   "source": []
  }
 ],
 "metadata": {
  "kernelspec": {
   "display_name": ".venv",
   "language": "python",
   "name": "python3"
  },
  "language_info": {
   "codemirror_mode": {
    "name": "ipython",
    "version": 3
   },
   "file_extension": ".py",
   "mimetype": "text/x-python",
   "name": "python",
   "nbconvert_exporter": "python",
   "pygments_lexer": "ipython3",
   "version": "3.13.5"
  }
 },
 "nbformat": 4,
 "nbformat_minor": 5
}
