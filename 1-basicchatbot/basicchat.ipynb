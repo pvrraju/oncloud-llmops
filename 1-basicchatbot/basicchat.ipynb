{
 "cells": [
  {
   "cell_type": "code",
   "execution_count": 45,
   "id": "3bcad521",
   "metadata": {},
   "outputs": [
    {
     "name": "stdout",
     "output_type": "stream",
     "text": [
      "wewe\n"
     ]
    }
   ],
   "source": [
    "print(\"wewe\")"
   ]
  },
  {
   "cell_type": "code",
   "execution_count": 46,
   "id": "37b9104a",
   "metadata": {},
   "outputs": [],
   "source": [
    "from typing import Annotated\n",
    "from typing_extensions import TypedDict\n",
    "\n",
    "from langgraph.graph import StateGraph, START, END\n",
    "\n",
    "from langgraph.graph.message import add_messages"
   ]
  },
  {
   "cell_type": "code",
   "execution_count": 47,
   "id": "a42f17f1",
   "metadata": {},
   "outputs": [],
   "source": [
    "class State(TypedDict):\n",
    "\n",
    "    messages:Annotated[list, add_messages]\n",
    "\n",
    "\n",
    "graph_builder= StateGraph(State)"
   ]
  },
  {
   "cell_type": "code",
   "execution_count": 48,
   "id": "1f950d2d",
   "metadata": {},
   "outputs": [
    {
     "data": {
      "text/plain": [
       "<langgraph.graph.state.StateGraph at 0x11a759450>"
      ]
     },
     "execution_count": 48,
     "metadata": {},
     "output_type": "execute_result"
    }
   ],
   "source": [
    "graph_builder"
   ]
  },
  {
   "cell_type": "code",
   "execution_count": 49,
   "id": "449101ec",
   "metadata": {},
   "outputs": [],
   "source": [
    "import os \n",
    "from dotenv import load_dotenv"
   ]
  },
  {
   "cell_type": "code",
   "execution_count": 50,
   "id": "1e6d210f",
   "metadata": {},
   "outputs": [
    {
     "data": {
      "text/plain": [
       "True"
      ]
     },
     "execution_count": 50,
     "metadata": {},
     "output_type": "execute_result"
    }
   ],
   "source": [
    "load_dotenv()"
   ]
  },
  {
   "cell_type": "code",
   "execution_count": 73,
   "id": "fd0616c4",
   "metadata": {},
   "outputs": [],
   "source": [
    "from langchain_openai import ChatOpenAI\n",
    "#from langchain.chat_models import init_chat_model"
   ]
  },
  {
   "cell_type": "code",
   "execution_count": 74,
   "id": "f7b9bb76",
   "metadata": {},
   "outputs": [],
   "source": [
    "# llm = init_chat_model(\"openai:gpt-4o\")\n"
   ]
  },
  {
   "cell_type": "code",
   "execution_count": 112,
   "id": "4fa8fd3f",
   "metadata": {},
   "outputs": [],
   "source": [
    "def chatbot(state:State):\n",
    "\n",
    "    model = ChatOpenAI(temperature=0, model=\"gpt-4o-mini\")\n",
    "    \n",
    "    # Call the model with the current messages\n",
    "    response = model.invoke(state['messages'])\n",
    "    \n",
    "    # The return value must be a dictionary with a key that matches the\n",
    "    # key in our State class ('messages'). This will update the state.\n",
    "    return {\"messages\": [response]}\n",
    "\n",
    "\n",
    "\n",
    "#    return {\"message\":[llm.invoke(state[\"messages\"])]}"
   ]
  },
  {
   "cell_type": "code",
   "execution_count": 113,
   "id": "a4c112ab",
   "metadata": {},
   "outputs": [
    {
     "data": {
      "text/plain": [
       "<langgraph.graph.state.StateGraph at 0x11bf739d0>"
      ]
     },
     "execution_count": 113,
     "metadata": {},
     "output_type": "execute_result"
    }
   ],
   "source": [
    "graph_builder = StateGraph(State)\n",
    "graph_builder.add_node(\"gptchatbot\", chatbot)\n",
    "\n",
    "graph_builder.add_edge(START,\"gptchatbot\")\n",
    "graph_builder.add_edge(\"gptchatbot\",END)\n"
   ]
  },
  {
   "cell_type": "code",
   "execution_count": 114,
   "id": "ba4c5ef0",
   "metadata": {},
   "outputs": [],
   "source": [
    "graph = graph_builder.compile()"
   ]
  },
  {
   "cell_type": "code",
   "execution_count": 115,
   "id": "6ff3afb7",
   "metadata": {},
   "outputs": [
    {
     "data": {
      "image/png": "[encoded data removed]",
      "text/plain": [
       "<IPython.core.display.Image object>"
      ]
     },
     "metadata": {},
     "output_type": "display_data"
    }
   ],
   "source": [
    "from IPython.display import Image, display\n",
    "\n",
    "    # Get the graph object for visualization\n",
    "graph_image = graph.get_graph()\n",
    "\n",
    "    # Display the graph (e.g., in a Jupyter Notebook)\n",
    "display(Image(graph_image.draw_png()))"
   ]
  },
  {
   "cell_type": "code",
   "execution_count": 116,
   "id": "5d3f4779",
   "metadata": {},
   "outputs": [],
   "source": [
    "graph_image.draw_png(\"my_langgraph.png\")"
   ]
  },
  {
   "cell_type": "code",
   "execution_count": 117,
   "id": "a33e6b6e",
   "metadata": {},
   "outputs": [
    {
     "data": {
      "text/plain": [
       "{'messages': [HumanMessage(content='hi haha', additional_kwargs={}, response_metadata={}, id='62461ace-1d95-4073-9e6e-945406eb181a'),\n",
       "  AIMessage(content='Hello! How can I assist you today?', additional_kwargs={'refusal': None}, response_metadata={'token_usage': {'completion_tokens': 9, 'prompt_tokens': 9, 'total_tokens': 18, 'completion_tokens_details': {'accepted_prediction_tokens': 0, 'audio_tokens': 0, 'reasoning_tokens': 0, 'rejected_prediction_tokens': 0}, 'prompt_tokens_details': {'audio_tokens': 0, 'cached_tokens': 0}}, 'model_name': 'gpt-4o-mini-2024-07-18', 'system_fingerprint': 'fp_34a54ae93c', 'id': 'chatcmpl-BqRHzLTThZMo3BdHAeyKRpMKEbuLV', 'service_tier': 'default', 'finish_reason': 'stop', 'logprobs': None}, id='run--7385b8c0-3465-41ec-b8f5-cedfd7d17c2e-0', usage_metadata={'input_tokens': 9, 'output_tokens': 9, 'total_tokens': 18, 'input_token_details': {'audio': 0, 'cache_read': 0}, 'output_token_details': {'audio': 0, 'reasoning': 0}})]}"
      ]
     },
     "execution_count": 117,
     "metadata": {},
     "output_type": "execute_result"
    }
   ],
   "source": [
    "graph.invoke({\"messages\":\"hi haha\"})"
   ]
  },
  {
   "cell_type": "code",
   "execution_count": null,
   "id": "b0973983",
   "metadata": {},
   "outputs": [
    {
     "name": "stdout",
     "output_type": "stream",
     "text": [
      "Hello! I'm here to help you with any questions or topics you'd like to discuss. What’s on your mind?\n"
     ]
    }
   ],
   "source": [
    "for event in graph.stream({\"messages\":\"hi what re what doings ??\"}):\n",
    "    for value in event.values():\n",
    "        print(value[\"messages\"][-1].content)\n",
    "\n"
   ]
  },
  {
   "cell_type": "code",
   "execution_count": null,
   "id": "34b1ee1e",
   "metadata": {},
   "outputs": [],
   "source": []
  },
  {
   "cell_type": "code",
   "execution_count": null,
   "id": "220c297f",
   "metadata": {},
   "outputs": [],
   "source": []
  },
  {
   "cell_type": "code",
   "execution_count": null,
   "id": "ba341c31",
   "metadata": {},
   "outputs": [],
   "source": []
  }
 ],
 "metadata": {
  "kernelspec": {
   "display_name": ".venv",
   "language": "python",
   "name": "python3"
  },
  "language_info": {
   "codemirror_mode": {
    "name": "ipython",
    "version": 3
   },
   "file_extension": ".py",
   "mimetype": "text/x-python",
   "name": "python",
   "nbconvert_exporter": "python",
   "pygments_lexer": "ipython3",
   "version": "3.13.5"
  }
 },
 "nbformat": 4,
 "nbformat_minor": 5
}
